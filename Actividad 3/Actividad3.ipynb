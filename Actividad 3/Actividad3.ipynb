{
  "nbformat": 4,
  "nbformat_minor": 0,
  "metadata": {
    "colab": {
      "name": "Actividad3.ipynb",
      "provenance": [],
      "collapsed_sections": []
    },
    "kernelspec": {
      "name": "python3",
      "display_name": "Python 3"
    },
    "language_info": {
      "name": "python"
    }
  },
  "cells": [
    {
      "cell_type": "code",
      "metadata": {
        "colab": {
          "base_uri": "https://localhost:8080/"
        },
        "id": "2820yZJO8QRO",
        "outputId": "c87ed2df-c4c6-4212-bb5e-cafce6799935"
      },
      "source": [
        "#Se importan las bibliotecas a utilizar\n",
        "import numpy as np\n",
        "import pandas as pd\n",
        "\n",
        "#URL de la base de datos a utilizar\n",
        "url = \"https://raw.githubusercontent.com/Wonga42/Fisica-Computacional-1/main/Actividad%201/EstacionDatos.txt\"\n",
        "\n",
        "df_magdalena = pd.read_csv(url, encoding='latin-1')\n",
        "\n",
        "print(df_magdalena.head(20))\n",
        "print(df_magdalena.tail())"
      ],
      "execution_count": null,
      "outputs": [
        {
          "output_type": "stream",
          "text": [
            "                     CNA-SMN-CG-GMC-SMAA-CLIMATOLOGIA\n",
            "0                         BASE DE DATOS CLIMATOLOGICA\n",
            "1   DATOS DISPONIBLES EN LA BASE DE DATOS A MARZO ...\n",
            "2                                   ESTACION  : 26286\n",
            "3                            NOMBRE    : MAGDALENA II\n",
            "4                                  ESTADO    : SONORA\n",
            "5                               MUNICIPIO : MAGDALENA\n",
            "6                                SITUACIÓN : OPERANDO\n",
            "7                             ORGANISMO : CONAGUA-DGE\n",
            "8                                    CVE-OMM   : Nulo\n",
            "9                                LATITUD   : 030.615°\n",
            "10                              LONGITUD  : -110.949°\n",
            "11                               ALTITUD   : 753 msnm\n",
            "12                            EMISION   : 06/04/2020 \n",
            "13                         PRECIP  EVAP   TMAX   TMIN\n",
            "14                FECHA     (MM)   (MM)   (°C)   (°C)\n",
            "15             01/06/1987  0      8.5    34     12.5 \n",
            "16               02/06/1987  0      10.8   35     17 \n",
            "17               03/06/1987  3.1    9.5    37     21 \n",
            "18               04/06/1987  0      10.3   37     21 \n",
            "19               05/06/1987  0      7.3    36     20 \n",
            "             CNA-SMN-CG-GMC-SMAA-CLIMATOLOGIA\n",
            "10481     27/04/2016  0     Nulo    31     8 \n",
            "10482    28/04/2016  0     Nulo    27     10 \n",
            "10483     29/04/2016  0     Nulo    28     8 \n",
            "10484     30/04/2016  0     Nulo    26     9 \n",
            "10485  --------------------------------------\n"
          ],
          "name": "stdout"
        }
      ]
    },
    {
      "cell_type": "markdown",
      "metadata": {
        "id": "WQHsZptn9yIV"
      },
      "source": [
        "Con esto podemos notar las columnas y como los primero 15 renglones son datos basura"
      ]
    },
    {
      "cell_type": "code",
      "metadata": {
        "colab": {
          "base_uri": "https://localhost:8080/"
        },
        "id": "vmQI57uP9xC_",
        "outputId": "23639763-cb0e-46eb-daa6-d220db6e46a8"
      },
      "source": [
        "# Nombramos las columnas del df\n",
        "columnas = ['Fecha', 'Precip', 'Evap', 'Tmax', 'Tmin']\n",
        "\n",
        "# El archivo tiene códigos ASCII extendido (Español), encoding='cp1251' Windows (Europa Occidental)\n",
        "# El separador de datos es de uno o más espacios, sep='\\s+'\n",
        "# Se saltará los primeros 19 renglones y el último (skiprows), afirmamos que no nay encabezado (header=None)\n",
        "# Se procesan los datos utilizando Python, engine='python' \n",
        "\n",
        "df_badiraguato = pd.read_csv(url, names=columnas, encoding='cp1251', sep='\\s+', header=None, skiprows=19, skipfooter=1, engine='python')\n",
        "\n",
        "print(df_magdalena.head())\n",
        "print(df_magdalena.tail())"
      ],
      "execution_count": null,
      "outputs": [
        {
          "output_type": "stream",
          "text": [
            "                    CNA-SMN-CG-GMC-SMAA-CLIMATOLOGIA\n",
            "0                        BASE DE DATOS CLIMATOLOGICA\n",
            "1  DATOS DISPONIBLES EN LA BASE DE DATOS A MARZO ...\n",
            "2                                  ESTACION  : 26286\n",
            "3                           NOMBRE    : MAGDALENA II\n",
            "4                                 ESTADO    : SONORA\n",
            "             CNA-SMN-CG-GMC-SMAA-CLIMATOLOGIA\n",
            "10481     27/04/2016  0     Nulo    31     8 \n",
            "10482    28/04/2016  0     Nulo    27     10 \n",
            "10483     29/04/2016  0     Nulo    28     8 \n",
            "10484     30/04/2016  0     Nulo    26     9 \n",
            "10485  --------------------------------------\n"
          ],
          "name": "stdout"
        }
      ]
    },
    {
      "cell_type": "code",
      "metadata": {
        "colab": {
          "base_uri": "https://localhost:8080/"
        },
        "id": "AZWAeMlN_hR0",
        "outputId": "fec303d0-b5a5-4666-ae35-2156120cbb60"
      },
      "source": [
        "#dimensión de los datos con df.shape\n",
        "df_badiraguato.shape\n",
        "\n",
        "#Observamos la información de los datos\n",
        "df_badiraguato.info()"
      ],
      "execution_count": null,
      "outputs": [
        {
          "output_type": "stream",
          "text": [
            "<class 'pandas.core.frame.DataFrame'>\n",
            "RangeIndex: 10470 entries, 0 to 10469\n",
            "Data columns (total 5 columns):\n",
            " #   Column  Non-Null Count  Dtype  \n",
            "---  ------  --------------  -----  \n",
            " 0   Fecha   10470 non-null  object \n",
            " 1   Precip  10470 non-null  float64\n",
            " 2   Evap    10470 non-null  object \n",
            " 3   Tmax    10470 non-null  object \n",
            " 4   Tmin    10470 non-null  object \n",
            "dtypes: float64(1), object(4)\n",
            "memory usage: 409.1+ KB\n"
          ],
          "name": "stdout"
        }
      ]
    },
    {
      "cell_type": "code",
      "metadata": {
        "colab": {
          "base_uri": "https://localhost:8080/",
          "height": 204
        },
        "id": "yGS6s3da-wwk",
        "outputId": "baafb17c-4e91-45d4-c23e-db79b54ba37c"
      },
      "source": [
        "# Copia de seguridad\n",
        "df_copia=df_badiraguato.copy()\n",
        "df_copia.head()"
      ],
      "execution_count": null,
      "outputs": [
        {
          "output_type": "execute_result",
          "data": {
            "text/html": [
              "<div>\n",
              "<style scoped>\n",
              "    .dataframe tbody tr th:only-of-type {\n",
              "        vertical-align: middle;\n",
              "    }\n",
              "\n",
              "    .dataframe tbody tr th {\n",
              "        vertical-align: top;\n",
              "    }\n",
              "\n",
              "    .dataframe thead th {\n",
              "        text-align: right;\n",
              "    }\n",
              "</style>\n",
              "<table border=\"1\" class=\"dataframe\">\n",
              "  <thead>\n",
              "    <tr style=\"text-align: right;\">\n",
              "      <th></th>\n",
              "      <th>Fecha</th>\n",
              "      <th>Precip</th>\n",
              "      <th>Evap</th>\n",
              "      <th>Tmax</th>\n",
              "      <th>Tmin</th>\n",
              "    </tr>\n",
              "  </thead>\n",
              "  <tbody>\n",
              "    <tr>\n",
              "      <th>0</th>\n",
              "      <td>01/06/1987</td>\n",
              "      <td>0.0</td>\n",
              "      <td>8.5</td>\n",
              "      <td>34</td>\n",
              "      <td>12.5</td>\n",
              "    </tr>\n",
              "    <tr>\n",
              "      <th>1</th>\n",
              "      <td>02/06/1987</td>\n",
              "      <td>0.0</td>\n",
              "      <td>10.8</td>\n",
              "      <td>35</td>\n",
              "      <td>17</td>\n",
              "    </tr>\n",
              "    <tr>\n",
              "      <th>2</th>\n",
              "      <td>03/06/1987</td>\n",
              "      <td>3.1</td>\n",
              "      <td>9.5</td>\n",
              "      <td>37</td>\n",
              "      <td>21</td>\n",
              "    </tr>\n",
              "    <tr>\n",
              "      <th>3</th>\n",
              "      <td>04/06/1987</td>\n",
              "      <td>0.0</td>\n",
              "      <td>10.3</td>\n",
              "      <td>37</td>\n",
              "      <td>21</td>\n",
              "    </tr>\n",
              "    <tr>\n",
              "      <th>4</th>\n",
              "      <td>05/06/1987</td>\n",
              "      <td>0.0</td>\n",
              "      <td>7.3</td>\n",
              "      <td>36</td>\n",
              "      <td>20</td>\n",
              "    </tr>\n",
              "  </tbody>\n",
              "</table>\n",
              "</div>"
            ],
            "text/plain": [
              "        Fecha  Precip  Evap Tmax  Tmin\n",
              "0  01/06/1987     0.0   8.5   34  12.5\n",
              "1  02/06/1987     0.0  10.8   35    17\n",
              "2  03/06/1987     3.1   9.5   37    21\n",
              "3  04/06/1987     0.0  10.3   37    21\n",
              "4  05/06/1987     0.0   7.3   36    20"
            ]
          },
          "metadata": {
            "tags": []
          },
          "execution_count": 14
        }
      ]
    },
    {
      "cell_type": "code",
      "metadata": {
        "colab": {
          "base_uri": "https://localhost:8080/",
          "height": 204
        },
        "id": "Ph-CJmqE_9Bc",
        "outputId": "ca39d10c-4140-4988-dd17-dbd46e3e6b93"
      },
      "source": [
        "#Se reemplazan los textos que dicen 'Nulo' por espacios en blanco\n",
        "str_Nulo = 'Nulo'\n",
        "df_copia = df_copia.replace(to_replace=str_Nulo, value='', regex=True)\n",
        "df_copia.head()"
      ],
      "execution_count": null,
      "outputs": [
        {
          "output_type": "execute_result",
          "data": {
            "text/html": [
              "<div>\n",
              "<style scoped>\n",
              "    .dataframe tbody tr th:only-of-type {\n",
              "        vertical-align: middle;\n",
              "    }\n",
              "\n",
              "    .dataframe tbody tr th {\n",
              "        vertical-align: top;\n",
              "    }\n",
              "\n",
              "    .dataframe thead th {\n",
              "        text-align: right;\n",
              "    }\n",
              "</style>\n",
              "<table border=\"1\" class=\"dataframe\">\n",
              "  <thead>\n",
              "    <tr style=\"text-align: right;\">\n",
              "      <th></th>\n",
              "      <th>Fecha</th>\n",
              "      <th>Precip</th>\n",
              "      <th>Evap</th>\n",
              "      <th>Tmax</th>\n",
              "      <th>Tmin</th>\n",
              "    </tr>\n",
              "  </thead>\n",
              "  <tbody>\n",
              "    <tr>\n",
              "      <th>0</th>\n",
              "      <td>01/06/1987</td>\n",
              "      <td>0.0</td>\n",
              "      <td>8.5</td>\n",
              "      <td>34</td>\n",
              "      <td>12.5</td>\n",
              "    </tr>\n",
              "    <tr>\n",
              "      <th>1</th>\n",
              "      <td>02/06/1987</td>\n",
              "      <td>0.0</td>\n",
              "      <td>10.8</td>\n",
              "      <td>35</td>\n",
              "      <td>17</td>\n",
              "    </tr>\n",
              "    <tr>\n",
              "      <th>2</th>\n",
              "      <td>03/06/1987</td>\n",
              "      <td>3.1</td>\n",
              "      <td>9.5</td>\n",
              "      <td>37</td>\n",
              "      <td>21</td>\n",
              "    </tr>\n",
              "    <tr>\n",
              "      <th>3</th>\n",
              "      <td>04/06/1987</td>\n",
              "      <td>0.0</td>\n",
              "      <td>10.3</td>\n",
              "      <td>37</td>\n",
              "      <td>21</td>\n",
              "    </tr>\n",
              "    <tr>\n",
              "      <th>4</th>\n",
              "      <td>05/06/1987</td>\n",
              "      <td>0.0</td>\n",
              "      <td>7.3</td>\n",
              "      <td>36</td>\n",
              "      <td>20</td>\n",
              "    </tr>\n",
              "  </tbody>\n",
              "</table>\n",
              "</div>"
            ],
            "text/plain": [
              "        Fecha  Precip  Evap Tmax  Tmin\n",
              "0  01/06/1987     0.0   8.5   34  12.5\n",
              "1  02/06/1987     0.0  10.8   35    17\n",
              "2  03/06/1987     3.1   9.5   37    21\n",
              "3  04/06/1987     0.0  10.3   37    21\n",
              "4  05/06/1987     0.0   7.3   36    20"
            ]
          },
          "metadata": {
            "tags": []
          },
          "execution_count": 15
        }
      ]
    },
    {
      "cell_type": "code",
      "metadata": {
        "colab": {
          "base_uri": "https://localhost:8080/"
        },
        "id": "4w4BqC3YAE90",
        "outputId": "02b37f89-69f1-40b5-d12f-563865c4050f"
      },
      "source": [
        "#Imprimimos la informacion actualizada\n",
        "df_copia.info()\n",
        "print(df_copia.head())"
      ],
      "execution_count": null,
      "outputs": [
        {
          "output_type": "stream",
          "text": [
            "<class 'pandas.core.frame.DataFrame'>\n",
            "RangeIndex: 10470 entries, 0 to 10469\n",
            "Data columns (total 5 columns):\n",
            " #   Column  Non-Null Count  Dtype  \n",
            "---  ------  --------------  -----  \n",
            " 0   Fecha   10470 non-null  object \n",
            " 1   Precip  10470 non-null  float64\n",
            " 2   Evap    10470 non-null  object \n",
            " 3   Tmax    10470 non-null  object \n",
            " 4   Tmin    10470 non-null  object \n",
            "dtypes: float64(1), object(4)\n",
            "memory usage: 409.1+ KB\n",
            "        Fecha  Precip  Evap Tmax  Tmin\n",
            "0  01/06/1987     0.0   8.5   34  12.5\n",
            "1  02/06/1987     0.0  10.8   35    17\n",
            "2  03/06/1987     3.1   9.5   37    21\n",
            "3  04/06/1987     0.0  10.3   37    21\n",
            "4  05/06/1987     0.0   7.3   36    20\n"
          ],
          "name": "stdout"
        }
      ]
    },
    {
      "cell_type": "code",
      "metadata": {
        "colab": {
          "base_uri": "https://localhost:8080/"
        },
        "id": "z675KcnVAMfF",
        "outputId": "68dfad98-5160-4c27-b1f0-4495d6e6042c"
      },
      "source": [
        "#Convertirmos los datos a valores numericos para poder trabajar con ellos\n",
        "columnas = ['Precip', 'Evap', 'Tmax', 'Tmin']\n",
        "for cols in columnas:\n",
        "  df_copia[cols] = pd.to_numeric(df_copia[cols], errors=\"coerce\")\n",
        "\n",
        "df_copia.info()"
      ],
      "execution_count": null,
      "outputs": [
        {
          "output_type": "stream",
          "text": [
            "<class 'pandas.core.frame.DataFrame'>\n",
            "RangeIndex: 10470 entries, 0 to 10469\n",
            "Data columns (total 5 columns):\n",
            " #   Column  Non-Null Count  Dtype  \n",
            "---  ------  --------------  -----  \n",
            " 0   Fecha   10470 non-null  object \n",
            " 1   Precip  10470 non-null  float64\n",
            " 2   Evap    209 non-null    float64\n",
            " 3   Tmax    10365 non-null  float64\n",
            " 4   Tmin    10381 non-null  float64\n",
            "dtypes: float64(4), object(1)\n",
            "memory usage: 409.1+ KB\n"
          ],
          "name": "stdout"
        }
      ]
    },
    {
      "cell_type": "code",
      "metadata": {
        "colab": {
          "base_uri": "https://localhost:8080/"
        },
        "id": "2H0lB6NwAfxk",
        "outputId": "8278884a-bffb-45a1-d91e-45217ff257d7"
      },
      "source": [
        "#Observamos los datos que faltan\n",
        "df_copia.isnull().sum()"
      ],
      "execution_count": null,
      "outputs": [
        {
          "output_type": "execute_result",
          "data": {
            "text/plain": [
              "Fecha         0\n",
              "Precip        0\n",
              "Evap      10261\n",
              "Tmax        105\n",
              "Tmin         89\n",
              "dtype: int64"
            ]
          },
          "metadata": {
            "tags": []
          },
          "execution_count": 18
        }
      ]
    },
    {
      "cell_type": "code",
      "metadata": {
        "colab": {
          "base_uri": "https://localhost:8080/"
        },
        "id": "TcIF2zk0AkQt",
        "outputId": "aa7e51bb-e296-4f9c-92f7-8b0f3e0b2ac3"
      },
      "source": [
        "#Se imprimen los primeros 5 renglones de la copia.\n",
        "print(df_copia.head())"
      ],
      "execution_count": null,
      "outputs": [
        {
          "output_type": "stream",
          "text": [
            "        Fecha  Precip  Evap  Tmax  Tmin\n",
            "0  01/06/1987     0.0   8.5  34.0  12.5\n",
            "1  02/06/1987     0.0  10.8  35.0  17.0\n",
            "2  03/06/1987     3.1   9.5  37.0  21.0\n",
            "3  04/06/1987     0.0  10.3  37.0  21.0\n",
            "4  05/06/1987     0.0   7.3  36.0  20.0\n"
          ],
          "name": "stdout"
        }
      ]
    },
    {
      "cell_type": "code",
      "metadata": {
        "colab": {
          "base_uri": "https://localhost:8080/",
          "height": 297
        },
        "id": "vK1KuwR5Aqs-",
        "outputId": "a959f19b-4529-4ff8-ac9f-ae16f96c7f1a"
      },
      "source": [
        "#Se hace un análisis estadístico con redondeo a 2 cifras\n",
        "df_copia.describe().round(2)"
      ],
      "execution_count": null,
      "outputs": [
        {
          "output_type": "execute_result",
          "data": {
            "text/html": [
              "<div>\n",
              "<style scoped>\n",
              "    .dataframe tbody tr th:only-of-type {\n",
              "        vertical-align: middle;\n",
              "    }\n",
              "\n",
              "    .dataframe tbody tr th {\n",
              "        vertical-align: top;\n",
              "    }\n",
              "\n",
              "    .dataframe thead th {\n",
              "        text-align: right;\n",
              "    }\n",
              "</style>\n",
              "<table border=\"1\" class=\"dataframe\">\n",
              "  <thead>\n",
              "    <tr style=\"text-align: right;\">\n",
              "      <th></th>\n",
              "      <th>Precip</th>\n",
              "      <th>Evap</th>\n",
              "      <th>Tmax</th>\n",
              "      <th>Tmin</th>\n",
              "    </tr>\n",
              "  </thead>\n",
              "  <tbody>\n",
              "    <tr>\n",
              "      <th>count</th>\n",
              "      <td>10470.00</td>\n",
              "      <td>209.00</td>\n",
              "      <td>10365.00</td>\n",
              "      <td>10381.00</td>\n",
              "    </tr>\n",
              "    <tr>\n",
              "      <th>mean</th>\n",
              "      <td>1.22</td>\n",
              "      <td>6.23</td>\n",
              "      <td>30.72</td>\n",
              "      <td>12.31</td>\n",
              "    </tr>\n",
              "    <tr>\n",
              "      <th>std</th>\n",
              "      <td>5.41</td>\n",
              "      <td>3.32</td>\n",
              "      <td>7.89</td>\n",
              "      <td>7.55</td>\n",
              "    </tr>\n",
              "    <tr>\n",
              "      <th>min</th>\n",
              "      <td>0.00</td>\n",
              "      <td>0.50</td>\n",
              "      <td>3.00</td>\n",
              "      <td>-7.00</td>\n",
              "    </tr>\n",
              "    <tr>\n",
              "      <th>25%</th>\n",
              "      <td>0.00</td>\n",
              "      <td>3.70</td>\n",
              "      <td>24.50</td>\n",
              "      <td>6.00</td>\n",
              "    </tr>\n",
              "    <tr>\n",
              "      <th>50%</th>\n",
              "      <td>0.00</td>\n",
              "      <td>5.70</td>\n",
              "      <td>32.00</td>\n",
              "      <td>11.50</td>\n",
              "    </tr>\n",
              "    <tr>\n",
              "      <th>75%</th>\n",
              "      <td>0.00</td>\n",
              "      <td>8.30</td>\n",
              "      <td>37.00</td>\n",
              "      <td>19.00</td>\n",
              "    </tr>\n",
              "    <tr>\n",
              "      <th>max</th>\n",
              "      <td>115.00</td>\n",
              "      <td>14.40</td>\n",
              "      <td>48.50</td>\n",
              "      <td>36.00</td>\n",
              "    </tr>\n",
              "  </tbody>\n",
              "</table>\n",
              "</div>"
            ],
            "text/plain": [
              "         Precip    Evap      Tmax      Tmin\n",
              "count  10470.00  209.00  10365.00  10381.00\n",
              "mean       1.22    6.23     30.72     12.31\n",
              "std        5.41    3.32      7.89      7.55\n",
              "min        0.00    0.50      3.00     -7.00\n",
              "25%        0.00    3.70     24.50      6.00\n",
              "50%        0.00    5.70     32.00     11.50\n",
              "75%        0.00    8.30     37.00     19.00\n",
              "max      115.00   14.40     48.50     36.00"
            ]
          },
          "metadata": {
            "tags": []
          },
          "execution_count": 20
        }
      ]
    },
    {
      "cell_type": "code",
      "metadata": {
        "colab": {
          "base_uri": "https://localhost:8080/",
          "height": 419
        },
        "id": "N44uRi9hA17t",
        "outputId": "de60c004-85db-4e63-eb58-dbed888cf66d"
      },
      "source": [
        "#Nueva copia de seguridad\n",
        "df_copiaseguridad = df_copia.copy()\n",
        "df_copiaseguridad"
      ],
      "execution_count": null,
      "outputs": [
        {
          "output_type": "execute_result",
          "data": {
            "text/html": [
              "<div>\n",
              "<style scoped>\n",
              "    .dataframe tbody tr th:only-of-type {\n",
              "        vertical-align: middle;\n",
              "    }\n",
              "\n",
              "    .dataframe tbody tr th {\n",
              "        vertical-align: top;\n",
              "    }\n",
              "\n",
              "    .dataframe thead th {\n",
              "        text-align: right;\n",
              "    }\n",
              "</style>\n",
              "<table border=\"1\" class=\"dataframe\">\n",
              "  <thead>\n",
              "    <tr style=\"text-align: right;\">\n",
              "      <th></th>\n",
              "      <th>Fecha</th>\n",
              "      <th>Precip</th>\n",
              "      <th>Evap</th>\n",
              "      <th>Tmax</th>\n",
              "      <th>Tmin</th>\n",
              "    </tr>\n",
              "  </thead>\n",
              "  <tbody>\n",
              "    <tr>\n",
              "      <th>0</th>\n",
              "      <td>01/06/1987</td>\n",
              "      <td>0.0</td>\n",
              "      <td>8.5</td>\n",
              "      <td>34.0</td>\n",
              "      <td>12.5</td>\n",
              "    </tr>\n",
              "    <tr>\n",
              "      <th>1</th>\n",
              "      <td>02/06/1987</td>\n",
              "      <td>0.0</td>\n",
              "      <td>10.8</td>\n",
              "      <td>35.0</td>\n",
              "      <td>17.0</td>\n",
              "    </tr>\n",
              "    <tr>\n",
              "      <th>2</th>\n",
              "      <td>03/06/1987</td>\n",
              "      <td>3.1</td>\n",
              "      <td>9.5</td>\n",
              "      <td>37.0</td>\n",
              "      <td>21.0</td>\n",
              "    </tr>\n",
              "    <tr>\n",
              "      <th>3</th>\n",
              "      <td>04/06/1987</td>\n",
              "      <td>0.0</td>\n",
              "      <td>10.3</td>\n",
              "      <td>37.0</td>\n",
              "      <td>21.0</td>\n",
              "    </tr>\n",
              "    <tr>\n",
              "      <th>4</th>\n",
              "      <td>05/06/1987</td>\n",
              "      <td>0.0</td>\n",
              "      <td>7.3</td>\n",
              "      <td>36.0</td>\n",
              "      <td>20.0</td>\n",
              "    </tr>\n",
              "    <tr>\n",
              "      <th>...</th>\n",
              "      <td>...</td>\n",
              "      <td>...</td>\n",
              "      <td>...</td>\n",
              "      <td>...</td>\n",
              "      <td>...</td>\n",
              "    </tr>\n",
              "    <tr>\n",
              "      <th>10465</th>\n",
              "      <td>26/04/2016</td>\n",
              "      <td>0.0</td>\n",
              "      <td>NaN</td>\n",
              "      <td>NaN</td>\n",
              "      <td>9.0</td>\n",
              "    </tr>\n",
              "    <tr>\n",
              "      <th>10466</th>\n",
              "      <td>27/04/2016</td>\n",
              "      <td>0.0</td>\n",
              "      <td>NaN</td>\n",
              "      <td>31.0</td>\n",
              "      <td>8.0</td>\n",
              "    </tr>\n",
              "    <tr>\n",
              "      <th>10467</th>\n",
              "      <td>28/04/2016</td>\n",
              "      <td>0.0</td>\n",
              "      <td>NaN</td>\n",
              "      <td>27.0</td>\n",
              "      <td>10.0</td>\n",
              "    </tr>\n",
              "    <tr>\n",
              "      <th>10468</th>\n",
              "      <td>29/04/2016</td>\n",
              "      <td>0.0</td>\n",
              "      <td>NaN</td>\n",
              "      <td>28.0</td>\n",
              "      <td>8.0</td>\n",
              "    </tr>\n",
              "    <tr>\n",
              "      <th>10469</th>\n",
              "      <td>30/04/2016</td>\n",
              "      <td>0.0</td>\n",
              "      <td>NaN</td>\n",
              "      <td>26.0</td>\n",
              "      <td>9.0</td>\n",
              "    </tr>\n",
              "  </tbody>\n",
              "</table>\n",
              "<p>10470 rows × 5 columns</p>\n",
              "</div>"
            ],
            "text/plain": [
              "            Fecha  Precip  Evap  Tmax  Tmin\n",
              "0      01/06/1987     0.0   8.5  34.0  12.5\n",
              "1      02/06/1987     0.0  10.8  35.0  17.0\n",
              "2      03/06/1987     3.1   9.5  37.0  21.0\n",
              "3      04/06/1987     0.0  10.3  37.0  21.0\n",
              "4      05/06/1987     0.0   7.3  36.0  20.0\n",
              "...           ...     ...   ...   ...   ...\n",
              "10465  26/04/2016     0.0   NaN   NaN   9.0\n",
              "10466  27/04/2016     0.0   NaN  31.0   8.0\n",
              "10467  28/04/2016     0.0   NaN  27.0  10.0\n",
              "10468  29/04/2016     0.0   NaN  28.0   8.0\n",
              "10469  30/04/2016     0.0   NaN  26.0   9.0\n",
              "\n",
              "[10470 rows x 5 columns]"
            ]
          },
          "metadata": {
            "tags": []
          },
          "execution_count": 21
        }
      ]
    },
    {
      "cell_type": "code",
      "metadata": {
        "colab": {
          "base_uri": "https://localhost:8080/"
        },
        "id": "3Q02RGPAA4Re",
        "outputId": "1194f839-e1fc-4ac1-a87c-03acf74c9dbe"
      },
      "source": [
        "#Se invierte el formato de la fecha\n",
        "df_copiaseguridad[\"Fecha\"] = pd.to_datetime(df_copiaseguridad[\"Fecha\"], dayfirst=True ).copy()\n",
        "print(df_copiaseguridad.head())"
      ],
      "execution_count": null,
      "outputs": [
        {
          "output_type": "stream",
          "text": [
            "       Fecha  Precip  Evap  Tmax  Tmin\n",
            "0 1987-06-01     0.0   8.5  34.0  12.5\n",
            "1 1987-06-02     0.0  10.8  35.0  17.0\n",
            "2 1987-06-03     3.1   9.5  37.0  21.0\n",
            "3 1987-06-04     0.0  10.3  37.0  21.0\n",
            "4 1987-06-05     0.0   7.3  36.0  20.0\n"
          ],
          "name": "stdout"
        }
      ]
    },
    {
      "cell_type": "code",
      "metadata": {
        "colab": {
          "base_uri": "https://localhost:8080/",
          "height": 419
        },
        "id": "AKsIUFKCBJyG",
        "outputId": "24e008dc-a1b2-46be-9a6c-eae6759f84f5"
      },
      "source": [
        "#Añadimos las columnas de año y mes ademas de la de fecha\n",
        "df_copiaseguridad[\"Año\"] = df_copiaseguridad[\"Fecha\"].dt.year\n",
        "df_copiaseguridad[\"Mes\"] = df_copiaseguridad[\"Fecha\"].dt.month\n",
        "df_copiaseguridad"
      ],
      "execution_count": null,
      "outputs": [
        {
          "output_type": "execute_result",
          "data": {
            "text/html": [
              "<div>\n",
              "<style scoped>\n",
              "    .dataframe tbody tr th:only-of-type {\n",
              "        vertical-align: middle;\n",
              "    }\n",
              "\n",
              "    .dataframe tbody tr th {\n",
              "        vertical-align: top;\n",
              "    }\n",
              "\n",
              "    .dataframe thead th {\n",
              "        text-align: right;\n",
              "    }\n",
              "</style>\n",
              "<table border=\"1\" class=\"dataframe\">\n",
              "  <thead>\n",
              "    <tr style=\"text-align: right;\">\n",
              "      <th></th>\n",
              "      <th>Fecha</th>\n",
              "      <th>Precip</th>\n",
              "      <th>Evap</th>\n",
              "      <th>Tmax</th>\n",
              "      <th>Tmin</th>\n",
              "      <th>Año</th>\n",
              "      <th>Mes</th>\n",
              "    </tr>\n",
              "  </thead>\n",
              "  <tbody>\n",
              "    <tr>\n",
              "      <th>0</th>\n",
              "      <td>1987-06-01</td>\n",
              "      <td>0.0</td>\n",
              "      <td>8.5</td>\n",
              "      <td>34.0</td>\n",
              "      <td>12.5</td>\n",
              "      <td>1987</td>\n",
              "      <td>6</td>\n",
              "    </tr>\n",
              "    <tr>\n",
              "      <th>1</th>\n",
              "      <td>1987-06-02</td>\n",
              "      <td>0.0</td>\n",
              "      <td>10.8</td>\n",
              "      <td>35.0</td>\n",
              "      <td>17.0</td>\n",
              "      <td>1987</td>\n",
              "      <td>6</td>\n",
              "    </tr>\n",
              "    <tr>\n",
              "      <th>2</th>\n",
              "      <td>1987-06-03</td>\n",
              "      <td>3.1</td>\n",
              "      <td>9.5</td>\n",
              "      <td>37.0</td>\n",
              "      <td>21.0</td>\n",
              "      <td>1987</td>\n",
              "      <td>6</td>\n",
              "    </tr>\n",
              "    <tr>\n",
              "      <th>3</th>\n",
              "      <td>1987-06-04</td>\n",
              "      <td>0.0</td>\n",
              "      <td>10.3</td>\n",
              "      <td>37.0</td>\n",
              "      <td>21.0</td>\n",
              "      <td>1987</td>\n",
              "      <td>6</td>\n",
              "    </tr>\n",
              "    <tr>\n",
              "      <th>4</th>\n",
              "      <td>1987-06-05</td>\n",
              "      <td>0.0</td>\n",
              "      <td>7.3</td>\n",
              "      <td>36.0</td>\n",
              "      <td>20.0</td>\n",
              "      <td>1987</td>\n",
              "      <td>6</td>\n",
              "    </tr>\n",
              "    <tr>\n",
              "      <th>...</th>\n",
              "      <td>...</td>\n",
              "      <td>...</td>\n",
              "      <td>...</td>\n",
              "      <td>...</td>\n",
              "      <td>...</td>\n",
              "      <td>...</td>\n",
              "      <td>...</td>\n",
              "    </tr>\n",
              "    <tr>\n",
              "      <th>10465</th>\n",
              "      <td>2016-04-26</td>\n",
              "      <td>0.0</td>\n",
              "      <td>NaN</td>\n",
              "      <td>NaN</td>\n",
              "      <td>9.0</td>\n",
              "      <td>2016</td>\n",
              "      <td>4</td>\n",
              "    </tr>\n",
              "    <tr>\n",
              "      <th>10466</th>\n",
              "      <td>2016-04-27</td>\n",
              "      <td>0.0</td>\n",
              "      <td>NaN</td>\n",
              "      <td>31.0</td>\n",
              "      <td>8.0</td>\n",
              "      <td>2016</td>\n",
              "      <td>4</td>\n",
              "    </tr>\n",
              "    <tr>\n",
              "      <th>10467</th>\n",
              "      <td>2016-04-28</td>\n",
              "      <td>0.0</td>\n",
              "      <td>NaN</td>\n",
              "      <td>27.0</td>\n",
              "      <td>10.0</td>\n",
              "      <td>2016</td>\n",
              "      <td>4</td>\n",
              "    </tr>\n",
              "    <tr>\n",
              "      <th>10468</th>\n",
              "      <td>2016-04-29</td>\n",
              "      <td>0.0</td>\n",
              "      <td>NaN</td>\n",
              "      <td>28.0</td>\n",
              "      <td>8.0</td>\n",
              "      <td>2016</td>\n",
              "      <td>4</td>\n",
              "    </tr>\n",
              "    <tr>\n",
              "      <th>10469</th>\n",
              "      <td>2016-04-30</td>\n",
              "      <td>0.0</td>\n",
              "      <td>NaN</td>\n",
              "      <td>26.0</td>\n",
              "      <td>9.0</td>\n",
              "      <td>2016</td>\n",
              "      <td>4</td>\n",
              "    </tr>\n",
              "  </tbody>\n",
              "</table>\n",
              "<p>10470 rows × 7 columns</p>\n",
              "</div>"
            ],
            "text/plain": [
              "           Fecha  Precip  Evap  Tmax  Tmin   Año  Mes\n",
              "0     1987-06-01     0.0   8.5  34.0  12.5  1987    6\n",
              "1     1987-06-02     0.0  10.8  35.0  17.0  1987    6\n",
              "2     1987-06-03     3.1   9.5  37.0  21.0  1987    6\n",
              "3     1987-06-04     0.0  10.3  37.0  21.0  1987    6\n",
              "4     1987-06-05     0.0   7.3  36.0  20.0  1987    6\n",
              "...          ...     ...   ...   ...   ...   ...  ...\n",
              "10465 2016-04-26     0.0   NaN   NaN   9.0  2016    4\n",
              "10466 2016-04-27     0.0   NaN  31.0   8.0  2016    4\n",
              "10467 2016-04-28     0.0   NaN  27.0  10.0  2016    4\n",
              "10468 2016-04-29     0.0   NaN  28.0   8.0  2016    4\n",
              "10469 2016-04-30     0.0   NaN  26.0   9.0  2016    4\n",
              "\n",
              "[10470 rows x 7 columns]"
            ]
          },
          "metadata": {
            "tags": []
          },
          "execution_count": 23
        }
      ]
    },
    {
      "cell_type": "code",
      "metadata": {
        "colab": {
          "base_uri": "https://localhost:8080/"
        },
        "id": "ejEoMeAoBO3O",
        "outputId": "88a48551-ba32-423a-9134-0e7946a80e1a"
      },
      "source": [
        "#Final\n",
        "print(df_copiaseguridad.head())\n",
        "print(df_copiaseguridad.tail())\n",
        "print(df_copiaseguridad.dtypes)"
      ],
      "execution_count": null,
      "outputs": [
        {
          "output_type": "stream",
          "text": [
            "       Fecha  Precip  Evap  Tmax  Tmin   Año  Mes\n",
            "0 1987-06-01     0.0   8.5  34.0  12.5  1987    6\n",
            "1 1987-06-02     0.0  10.8  35.0  17.0  1987    6\n",
            "2 1987-06-03     3.1   9.5  37.0  21.0  1987    6\n",
            "3 1987-06-04     0.0  10.3  37.0  21.0  1987    6\n",
            "4 1987-06-05     0.0   7.3  36.0  20.0  1987    6\n",
            "           Fecha  Precip  Evap  Tmax  Tmin   Año  Mes\n",
            "10465 2016-04-26     0.0   NaN   NaN   9.0  2016    4\n",
            "10466 2016-04-27     0.0   NaN  31.0   8.0  2016    4\n",
            "10467 2016-04-28     0.0   NaN  27.0  10.0  2016    4\n",
            "10468 2016-04-29     0.0   NaN  28.0   8.0  2016    4\n",
            "10469 2016-04-30     0.0   NaN  26.0   9.0  2016    4\n",
            "Fecha     datetime64[ns]\n",
            "Precip           float64\n",
            "Evap             float64\n",
            "Tmax             float64\n",
            "Tmin             float64\n",
            "Año                int64\n",
            "Mes                int64\n",
            "dtype: object\n"
          ],
          "name": "stdout"
        }
      ]
    }
  ]
}