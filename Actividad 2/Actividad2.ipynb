{
  "nbformat": 4,
  "nbformat_minor": 0,
  "metadata": {
    "colab": {
      "name": "Actividad2.ipynb",
      "provenance": []
    },
    "kernelspec": {
      "name": "python3",
      "display_name": "Python 3"
    }
  },
  "cells": [
    {
      "cell_type": "markdown",
      "metadata": {
        "id": "ZxCqWGWIVqU4"
      },
      "source": [
        "# Ejercicio 1\r\n",
        "#Incluye código para calcular áreas y volúmen:\r\n",
        "#-Área de un círculo y una elipse\r\n",
        "#-Volúmen de una esfera y un cilindro cirular\r\n",
        "\r\n",
        "\r\n"
      ]
    },
    {
      "cell_type": "code",
      "metadata": {
        "colab": {
          "base_uri": "https://localhost:8080/"
        },
        "id": "2cIZGlqZLRRd",
        "outputId": "5a77829b-05df-4afd-9f5a-e42307a84006"
      },
      "source": [
        "#Programa que calcula el ÁREA DE UN CÍRCULO\r\n",
        "#Se agregan las bibliotecas a utilizar\r\n",
        "import numpy as np\r\n",
        "# Se define una función de 1 variable para calcular el área.  \r\n",
        "def areaC(r):\r\n",
        "    return np.pi*r**2\r\n",
        "\r\n",
        "#Se pide el radio del círculo \r\n",
        "print(\"Proporciona el radio del circulo: \", end=\"\")\r\n",
        "r = float(input())\r\n",
        "a = areaC(r)\r\n",
        "# Imprime el valor del área en formato libre.\r\n",
        "print(\"\\nArea = \", a)\r\n",
        "# Imprime el valor del área con 2 decimales. \r\n",
        "print(\"\\nArea = {:.2f}\".format(a))"
      ],
      "execution_count": null,
      "outputs": [
        {
          "output_type": "stream",
          "text": [
            "Proporciona el radio del circulo: 1\n",
            "\n",
            "AreaC =  3.141592653589793\n",
            "\n",
            "AreaC = 3.14\n"
          ],
          "name": "stdout"
        }
      ]
    },
    {
      "cell_type": "code",
      "metadata": {
        "colab": {
          "base_uri": "https://localhost:8080/"
        },
        "id": "HTyso84QO1lh",
        "outputId": "cd948e27-667f-4c82-d3bf-01509f9a6cd9"
      },
      "source": [
        "#Programa que calcula el ÁREA DE UNA ELIPSE\r\n",
        "#Se agregan las bibiliotecas a utilizar\r\n",
        "import numpy as np\r\n",
        "\r\n",
        "# Se define una función de 2 variables para calcular el área.  \r\n",
        "def areaE(x, y):\r\n",
        "    return np.pi*x*y\r\n",
        "\r\n",
        "#Se pide el valor de los semiejes de la elipse\r\n",
        "print(\"Proporciona el semieje mayor y menor de la elipse: \", end=\"\")\r\n",
        "x = float(input())\r\n",
        "y = float(input())\r\n",
        "a = areaE(x, y)\r\n",
        "# Imprime el valor del área en formato libre.\r\n",
        "print(\"\\nArea = \", a)\r\n",
        "# Imprime el valor del área con 2 decimales. \r\n",
        "print(\"\\nArea = {:.2f}\".format(a))"
      ],
      "execution_count": null,
      "outputs": [
        {
          "output_type": "stream",
          "text": [
            "Proporciona el semieje mayor y menor de la elipse: 2\n",
            "3\n",
            "\n",
            "Area =  18.84955592153876\n",
            "\n",
            "Area = 18.85\n"
          ],
          "name": "stdout"
        }
      ]
    },
    {
      "cell_type": "code",
      "metadata": {
        "colab": {
          "base_uri": "https://localhost:8080/"
        },
        "id": "E0w1BDFiRenB",
        "outputId": "7829f5a5-ba5d-4e7e-b621-a2c1832f1c6c"
      },
      "source": [
        "#Programa que calcula el VOLÚMEN DE UNA ESFERA\r\n",
        "#Se agregan las bibliotecas a utilizar\r\n",
        "import numpy as np\r\n",
        "# Se define una función de 1 variable para calcular el volúmen.  \r\n",
        "def Volu(r):\r\n",
        "    return (4/3)*np.pi*r**3\r\n",
        "\r\n",
        "#Se pide el radio de la esfera \r\n",
        "print(\"Proporciona el radio de la esfera: \", end=\"\")\r\n",
        "r = float(input())\r\n",
        "v = Volu(r)\r\n",
        "# Imprime el valor del volúmen en formato libre.\r\n",
        "print(\"\\nVolúmen = \", v)\r\n",
        "# Imprime el valor del volúmen con 2 decimales. \r\n",
        "print(\"\\nVolúmen = {:.2f}\".format(v))"
      ],
      "execution_count": null,
      "outputs": [
        {
          "output_type": "stream",
          "text": [
            "Proporciona el radio de la esfera: 1\n",
            "\n",
            "AreaC =  4.1887902047863905\n",
            "\n",
            "AreaC = 4.19\n"
          ],
          "name": "stdout"
        }
      ]
    },
    {
      "cell_type": "code",
      "metadata": {
        "colab": {
          "base_uri": "https://localhost:8080/"
        },
        "id": "t-rTznXhTwCV",
        "outputId": "7ed5b925-f1ff-4311-a080-3e866e1b9d73"
      },
      "source": [
        "#Programa que calcula el VOLÚMEN DE UN CILINDRO CIRCULAR\r\n",
        "#Se agregan las bibiliotecas a utilizar\r\n",
        "import numpy as np\r\n",
        "\r\n",
        "# Se define una función de 2 variables para calcular el volúmen.  \r\n",
        "def Volu(r, h):\r\n",
        "    return np.pi*r**2*h\r\n",
        "\r\n",
        "#Se pide el valor del radio y la altura\r\n",
        "print(\"Proporciona el radio y altura del cilindro: \", end=\"\")\r\n",
        "r = float(input())\r\n",
        "h = float(input())\r\n",
        "v = Volu(r, h)\r\n",
        "# Imprime el valor del Volúmen en formato libre.\r\n",
        "print(\"\\nVolúmen = \", v)\r\n",
        "# Imprime el valor del Volúmen con 2 decimales. \r\n",
        "print(\"\\nVolúmen = {:.2f}\".format(v))"
      ],
      "execution_count": null,
      "outputs": [
        {
          "output_type": "stream",
          "text": [
            "Proporciona el radio y altura del cilindro: 1\n",
            "2\n",
            "\n",
            "Volúmen =  6.283185307179586\n",
            "\n",
            "Volúmen = 6.28\n"
          ],
          "name": "stdout"
        }
      ]
    },
    {
      "cell_type": "markdown",
      "metadata": {
        "id": "_pYXl9GMWaU2"
      },
      "source": [
        "#Ejercicio 2\r\n",
        "#Cálculo de raíces de una ecuación cuadrática"
      ]
    },
    {
      "cell_type": "code",
      "metadata": {
        "colab": {
          "base_uri": "https://localhost:8080/"
        },
        "id": "0GoNjoQbXXOl",
        "outputId": "4ab4df35-0586-44ea-948b-5249494a1426"
      },
      "source": [
        "#Programa que calula raíces de una ecuación cuadrática\r\n",
        "#Se importan las bibliotecas a utilizar\r\n",
        "import numpy as np\r\n",
        "\r\n",
        "#Se pide el valor de los coeficientes\r\n",
        "\r\n",
        "print(\"Coeficiente de la variable cuadrática: \", end=\"\")\r\n",
        "a = int(input())\r\n",
        "print(\"Coeficiente de la variable lineal: \", end=\"\")\r\n",
        "b = int(input())\r\n",
        "print(\"Coeficiente independiente: \", end=\"\")\r\n",
        "c = int(input())\r\n",
        "\r\n",
        "#IF para raiz negativa y en caso contrario calculo de raices\r\n",
        "if (b**2-4*a*c) < 0:\r\n",
        "  print(\"La solución es con números complejos\")\r\n",
        "else:\r\n",
        "  x1=(-b+np.sqrt(b**2-4*a*c))/(2*a)\r\n",
        "  x2=(-b-np.sqrt(b**2-4*a*c))/(2*a)\r\n",
        "  print(\"Las soluciones de la ecuación dada son:\")\r\n",
        "  \r\n",
        "#Imprime las soluciones en formato libre y con dos decimales\r\n",
        "  print(\"\\nX1 = \", x1)\r\n",
        "  print(\"\\n = {:.2f}\".format(x1))\r\n",
        "  print(\"\\nX2 = \", x2)\r\n",
        "  print(\"\\n = {:.2f}\".format(x2))\r\n",
        "\r\n",
        "\r\n",
        "\r\n",
        "\r\n"
      ],
      "execution_count": null,
      "outputs": [
        {
          "output_type": "stream",
          "text": [
            "Coeficiente de la variable cuadrática: 1\n",
            "Coeficiente de la variable lineal: 1\n",
            "Coeficiente independiente: 1\n",
            "La solución es con números complejos\n"
          ],
          "name": "stdout"
        }
      ]
    },
    {
      "cell_type": "markdown",
      "metadata": {
        "id": "LLSELTN88MPr"
      },
      "source": [
        "#Ejercicio 3\r\n",
        "#Uso del método babilónico para aproximar la raíz de un número"
      ]
    },
    {
      "cell_type": "code",
      "metadata": {
        "colab": {
          "base_uri": "https://localhost:8080/"
        },
        "id": "reWJVqibhFYa",
        "outputId": "69c1f4f5-e5dd-4ba4-8764-8c0d0a51edb1"
      },
      "source": [
        "#Método babilónico para la raiz de un número\r\n",
        "#Se importan las bibliotecas a utilizar\r\n",
        "import numpy as np\r\n",
        "\r\n",
        "#Se define una función de dos variables para el calculo\r\n",
        "def raiz(s,c):\r\n",
        "  if s < 0:\r\n",
        "    print(\"S no puede ser negativa\")\r\n",
        "\r\n",
        "  elif s==0:\r\n",
        "    return 0\r\n",
        "\r\n",
        "#Else en el que se aplica el algoritmo del método babilonico\r\n",
        "  else:\r\n",
        "    x=c\r\n",
        "    e=1\r\n",
        "    print(\"\\nLa raiz de S es = \", np.sqrt(s), \"y la estimacion del método babilonico es;\")\r\n",
        "\r\n",
        "#condiconante para no pasar del error de 0.01\r\n",
        "    while e > 0.01:\r\n",
        "      xn=s/x\r\n",
        "      x=(xn+x)/2\r\n",
        "      e=abs((s-xn**2)/(2*xn))\r\n",
        "  return x\r\n",
        "\r\n",
        "#Se pide el número y la aproximacion cercana\r\n",
        "print(\"Número S a obtener raiz: \", end=\"\")\r\n",
        "s = float(input())\r\n",
        "print(\":Número cercano a S \", end=\"\")\r\n",
        "c = float(input())\r\n",
        "\r\n",
        "raiz(s,c)\r\n"
      ],
      "execution_count": null,
      "outputs": [
        {
          "output_type": "stream",
          "text": [
            "Número S a obtener raiz: 4.5\n",
            ":Número cercano a S 2\n",
            "\n",
            "La raiz de S es =  2.1213203435596424 y la estimacion del método babilonico es;\n"
          ],
          "name": "stdout"
        },
        {
          "output_type": "execute_result",
          "data": {
            "text/plain": [
              "2.1213235294117645"
            ]
          },
          "metadata": {
            "tags": []
          },
          "execution_count": 49
        }
      ]
    }
  ]
}